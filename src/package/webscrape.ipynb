{
 "cells": [
  {
   "cell_type": "code",
   "execution_count": 2,
   "source": [
    "import pandas as pd\r\n",
    "import numpy as np"
   ],
   "outputs": [],
   "metadata": {}
  },
  {
   "cell_type": "code",
   "execution_count": 115,
   "source": [
    "cases_deaths = pd.read_csv(\"https://data.chhs.ca.gov/dataset/f333528b-4d38-4814-bebb-12db1f10f535/resource/046cdd2b-31e5-4d34-9ed3-b48cdbc4be7a/download/covid19cases_test.csv\")\r\n",
    "vaccines = pd.read_csv(\"https://data.chhs.ca.gov/dataset/e283ee5a-cf18-4f20-a92c-ee94a2866ccd/resource/130d7ba2-b6eb-438d-a412-741bde207e1c/download/covid19vaccinesbycounty.csv\")"
   ],
   "outputs": [],
   "metadata": {}
  },
  {
   "cell_type": "code",
   "execution_count": 116,
   "source": [
    "cases_deaths[\"date\"] = pd.to_datetime(cases_deaths[\"date\"])\r\n",
    "\r\n",
    "vaccines[\"date\"] = pd.to_datetime(vaccines[\"administered_date\"])\r\n",
    "vaccines = vaccines.drop([\"administered_date\"], axis=1)"
   ],
   "outputs": [],
   "metadata": {}
  },
  {
   "cell_type": "code",
   "execution_count": 10,
   "source": [
    "print(cases_deaths.columns)"
   ],
   "outputs": [
    {
     "output_type": "stream",
     "name": "stdout",
     "text": [
      "Index(['date', 'area', 'area_type', 'population', 'cases', 'cumulative_cases',\n",
      "       'deaths', 'cumulative_deaths', 'total_tests', 'cumulative_total_tests',\n",
      "       'positive_tests', 'cumulative_positive_tests', 'reported_cases',\n",
      "       'cumulative_reported_cases', 'reported_deaths',\n",
      "       'cumulative_reported_deaths', 'reported_tests'],\n",
      "      dtype='object')\n"
     ]
    }
   ],
   "metadata": {}
  },
  {
   "cell_type": "code",
   "execution_count": 120,
   "source": [
    "vaccines.county = np.where(vaccines.county == \"All CA Counties\", \"California\", vaccines.county)"
   ],
   "outputs": [],
   "metadata": {}
  },
  {
   "cell_type": "code",
   "execution_count": 121,
   "source": [
    "vaccines.county.unique()"
   ],
   "outputs": [
    {
     "output_type": "execute_result",
     "data": {
      "text/plain": [
       "array(['California', 'All CA and Non-CA Counties', 'Alpine', 'Amador',\n",
       "       'Butte', 'Calaveras', 'Colusa', 'Del Norte', 'Glenn', 'Humboldt',\n",
       "       'Imperial', 'Inyo', 'Kings', 'Lake', 'Lassen', 'Madera', 'Marin',\n",
       "       'Mariposa', 'Mendocino', 'Merced', 'Modoc', 'Mono', 'Monterey',\n",
       "       'Napa', 'Nevada', 'Plumas', 'San Benito', 'Santa Barbara',\n",
       "       'Shasta', 'Sierra', 'Siskiyou', 'Stanislaus', 'Sutter', 'Tehama',\n",
       "       'Trinity', 'Tulare', 'Tuolumne', 'Unknown', 'Yuba',\n",
       "       'Outside California', 'Alameda', 'Contra Costa', 'El Dorado',\n",
       "       'Fresno', 'Kern', 'Los Angeles', 'Orange', 'Placer', 'Riverside',\n",
       "       'Sacramento', 'San Bernardino', 'San Diego', 'San Francisco',\n",
       "       'San Joaquin', 'San Luis Obispo', 'San Mateo', 'Santa Clara',\n",
       "       'Santa Cruz', 'Solano', 'Sonoma', 'Ventura', 'Yolo'], dtype=object)"
      ]
     },
     "metadata": {},
     "execution_count": 121
    }
   ],
   "metadata": {}
  },
  {
   "cell_type": "code",
   "execution_count": 122,
   "source": [
    "combined = vaccines \\\r\n",
    "    .astype({\"county\": \"string\", \"date\": np.datetime64}) \\\r\n",
    "    .merge(\r\n",
    "        cases_deaths[[\"date\", \"area\", \"population\"]].astype({\"area\": \"string\"}),\r\n",
    "        left_on=[\"county\", \"date\"],\r\n",
    "        right_on=[\"area\",\"date\"],\r\n",
    "        how=\"inner\"\r\n",
    "    )\r\n",
    "    \r\n",
    "combined = combined[combined.county != \"Unknown\"]"
   ],
   "outputs": [],
   "metadata": {}
  },
  {
   "cell_type": "code",
   "execution_count": 124,
   "source": [
    "all_counties_vaccines = combined[[\"county\", \"cumulative_at_least_one_dose\", \"date\", \"population\", \"cumulative_fully_vaccinated\"]]\r\n",
    "all_counties_vaccines \\\r\n",
    "    .sort_values(by=[\"county\", \"date\"]) \\\r\n",
    "    .to_csv(\"../../dist/data/ca_vaccines.csv\", index=False)"
   ],
   "outputs": [],
   "metadata": {}
  },
  {
   "cell_type": "code",
   "execution_count": 95,
   "source": [
    "vaccines_data = combined[combined[\"county\"] == \"Santa Barbara\"]\r\n",
    "vaccines_data \\\r\n",
    "    .drop(\"county\", axis=1) \\\r\n",
    "    .sort_values(by=\"date\") \\\r\n",
    "    .to_csv(\"../../dist/data/vaccines.csv\", index=False)"
   ],
   "outputs": [],
   "metadata": {}
  }
 ],
 "metadata": {
  "orig_nbformat": 4,
  "language_info": {
   "name": "python",
   "version": "3.7.4",
   "mimetype": "text/x-python",
   "codemirror_mode": {
    "name": "ipython",
    "version": 3
   },
   "pygments_lexer": "ipython3",
   "nbconvert_exporter": "python",
   "file_extension": ".py"
  },
  "kernelspec": {
   "name": "python3",
   "display_name": "Python 3.7.4 32-bit ('myenv': venv)"
  },
  "interpreter": {
   "hash": "24d13ac509abb80e6532aead71d35b8313dfe0aa7e39fafdaa028046f3bcbd23"
  }
 },
 "nbformat": 4,
 "nbformat_minor": 2
}